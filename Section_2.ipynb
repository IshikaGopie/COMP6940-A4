{
 "metadata": {
  "colab": {
   "provenance": [],
   "gpuType": "T4"
  },
  "kernelspec": {
   "name": "python3",
   "display_name": "Python 3",
   "language": "python"
  },
  "language_info": {
   "name": "python",
   "version": "3.10.13",
   "mimetype": "text/x-python",
   "codemirror_mode": {
    "name": "ipython",
    "version": 3
   },
   "pygments_lexer": "ipython3",
   "nbconvert_exporter": "python",
   "file_extension": ".py"
  },
  "accelerator": "GPU",
  "kaggle": {
   "accelerator": "nvidiaTeslaT4",
   "dataSources": [
    {
     "sourceId": 8159548,
     "sourceType": "datasetVersion",
     "datasetId": 4827264
    }
   ],
   "dockerImageVersionId": 30683,
   "isInternetEnabled": true,
   "language": "python",
   "sourceType": "notebook",
   "isGpuEnabled": true
  }
 },
 "nbformat_minor": 4,
 "nbformat": 4,
 "cells": [
  {
   "cell_type": "markdown",
   "source": "In this section you will do a practical application of GPU-accelerated data analysis using the RAPIDS\nsuite of libraries. The focus will be on leveraging the New York City Taxi Trip Duration dataset from\nKaggle, applying Gradient Boosting Machine (GBM) models for predictive analysis, with a particular\nemphasis on comparing the speed and efficiency of GPU-accelerated computations with traditional CPUbased methods \n\n1. Comparative Data Processing\n(a)  Perform data loading and preprocessing tasks first using pandas (CPU) and then replicate the\nsame tasks using cuDF (GPU). Document the time taken for each operation in both scenarios.\n(b)  Conduct basic exploratory data analysis (EDA) with both CPU-based tools (e.g., matplotlib)\nand GPU-accelerated tools, noting any differences in performance and responsiveness.\n2. Feature Engineering and Selection\n(a) Engage in feature engineering, creating new variables that could aid in predicting trip durations. Compare the execution time for these operations on CPU vs. GPU.\n(b) Select relevant features for the model based on their correlation with the target variable,\nassessing the speed of these operations on CPU and GPU.\n3. Model Training and Evaluation\n(a) Train a Gradient Boosting Machine (GBM) model on the dataset using scikit-learn (CPU)\nand cuML (GPU). Record and compare the training times.\n(b) Evaluate the accuracy of both models and document the time taken for predictions on the\ntest set using CPU and GPU.\n4. Performance Analysis\n(a) Compile and compare the execution times for tasks performed on CPU vs. GPU, creating a\ndetailed analysis of the observed performance differences.\n(b) Reflect on the implications of these findings for data science workflows, particularly in terms\nof efficiency and scalability.",
   "metadata": {}
  },
  {
   "cell_type": "markdown",
   "source": "# (a) Perform data loading and preprocessing tasks first using pandas (CPU) and then replicate the same tasks using cuDF (GPU). Document the time taken for each operation in both scenarios.",
   "metadata": {
    "id": "tz9j0qbT95h4"
   }
  },
  {
   "cell_type": "code",
   "source": "!pip install pandas==2.1.4",
   "metadata": {
    "execution": {
     "iopub.status.busy": "2024-04-18T21:47:17.193540Z",
     "iopub.execute_input": "2024-04-18T21:47:17.194344Z",
     "iopub.status.idle": "2024-04-18T21:47:39.788867Z",
     "shell.execute_reply.started": "2024-04-18T21:47:17.194301Z",
     "shell.execute_reply": "2024-04-18T21:47:39.787498Z"
    },
    "trusted": true
   },
   "execution_count": 25,
   "outputs": [
    {
     "name": "stdout",
     "text": "Collecting pandas==2.1.4\n  Downloading pandas-2.1.4-cp310-cp310-manylinux_2_17_x86_64.manylinux2014_x86_64.whl.metadata (18 kB)\nRequirement already satisfied: numpy<2,>=1.22.4 in /opt/conda/lib/python3.10/site-packages (from pandas==2.1.4) (1.24.4)\nRequirement already satisfied: python-dateutil>=2.8.2 in /opt/conda/lib/python3.10/site-packages (from pandas==2.1.4) (2.9.0.post0)\nRequirement already satisfied: pytz>=2020.1 in /opt/conda/lib/python3.10/site-packages (from pandas==2.1.4) (2023.3.post1)\nRequirement already satisfied: tzdata>=2022.1 in /opt/conda/lib/python3.10/site-packages (from pandas==2.1.4) (2023.4)\nRequirement already satisfied: six>=1.5 in /opt/conda/lib/python3.10/site-packages (from python-dateutil>=2.8.2->pandas==2.1.4) (1.16.0)\nDownloading pandas-2.1.4-cp310-cp310-manylinux_2_17_x86_64.manylinux2014_x86_64.whl (12.3 MB)\n\u001B[2K   \u001B[90m━━━━━━━━━━━━━━━━━━━━━━━━━━━━━━━━━━━━━━━━\u001B[0m \u001B[32m12.3/12.3 MB\u001B[0m \u001B[31m30.2 MB/s\u001B[0m eta \u001B[36m0:00:00\u001B[0m00:01\u001B[0m00:01\u001B[0m\n\u001B[?25hInstalling collected packages: pandas\n  Attempting uninstall: pandas\n    Found existing installation: pandas 1.5.3\n    Uninstalling pandas-1.5.3:\n      Successfully uninstalled pandas-1.5.3\n\u001B[31mERROR: pip's dependency resolver does not currently take into account all the packages that are installed. This behaviour is the source of the following dependency conflicts.\ncudf 23.8.0 requires cubinlinker, which is not installed.\ncudf 23.8.0 requires cupy-cuda11x>=12.0.0, which is not installed.\ncudf 23.8.0 requires ptxcompiler, which is not installed.\ncuml 23.8.0 requires cupy-cuda11x>=12.0.0, which is not installed.\ndask-cudf 23.8.0 requires cupy-cuda11x>=12.0.0, which is not installed.\ntensorflow-decision-forests 1.8.1 requires wurlitzer, which is not installed.\nbeatrix-jupyterlab 2023.128.151533 requires jupyterlab~=3.6.0, but you have jupyterlab 4.1.5 which is incompatible.\ncudf 23.8.0 requires cuda-python<12.0a0,>=11.7.1, but you have cuda-python 12.4.0 which is incompatible.\ncudf 23.8.0 requires pandas<1.6.0dev0,>=1.3, but you have pandas 2.1.4 which is incompatible.\ncudf 23.8.0 requires pyarrow==11.*, but you have pyarrow 14.0.2 which is incompatible.\ncudf-cu12 24.2.2 requires pandas<1.6.0dev0,>=1.3, but you have pandas 2.1.4 which is incompatible.\ncuml 23.8.0 requires dask==2023.7.1, but you have dask 2024.1.1 which is incompatible.\ncuml 23.8.0 requires dask-cuda==23.8.*, but you have dask-cuda 24.2.0 which is incompatible.\ncuml 23.8.0 requires distributed==2023.7.1, but you have distributed 2024.1.1 which is incompatible.\ncuml 23.8.0 requires treelite==3.2.0, but you have treelite 4.0.0 which is incompatible.\ndask-cuda 24.2.0 requires pandas<1.6.0.dev0,>=1.3, but you have pandas 2.1.4 which is incompatible.\ndask-cudf 23.8.0 requires dask==2023.7.1, but you have dask 2024.1.1 which is incompatible.\ndask-cudf 23.8.0 requires distributed==2023.7.1, but you have distributed 2024.1.1 which is incompatible.\ndask-cudf 23.8.0 requires pandas<1.6.0dev0,>=1.3, but you have pandas 2.1.4 which is incompatible.\ndask-cudf-cu12 24.2.2 requires pandas<1.6.0dev0,>=1.3, but you have pandas 2.1.4 which is incompatible.\ndask-expr 1.0.9 requires dask==2024.4.0, but you have dask 2024.1.1 which is incompatible.\nfeaturetools 1.30.0 requires numpy>=1.25.0, but you have numpy 1.24.4 which is incompatible.\nlibpysal 4.9.2 requires shapely>=2.0.1, but you have shapely 1.8.5.post1 which is incompatible.\nmomepy 0.7.0 requires shapely>=2, but you have shapely 1.8.5.post1 which is incompatible.\nosmnx 1.9.2 requires shapely>=2.0, but you have shapely 1.8.5.post1 which is incompatible.\nraft-dask 23.8.0 requires dask==2023.7.1, but you have dask 2024.1.1 which is incompatible.\nraft-dask 23.8.0 requires dask-cuda==23.8.*, but you have dask-cuda 24.2.0 which is incompatible.\nraft-dask 23.8.0 requires distributed==2023.7.1, but you have distributed 2024.1.1 which is incompatible.\nspopt 0.6.0 requires shapely>=2.0.1, but you have shapely 1.8.5.post1 which is incompatible.\nwoodwork 0.29.0 requires numpy>=1.25.0, but you have numpy 1.24.4 which is incompatible.\u001B[0m\u001B[31m\n\u001B[0mSuccessfully installed pandas-2.1.4\n",
     "output_type": "stream"
    }
   ]
  },
  {
   "cell_type": "code",
   "source": [
    "# !pip install \\\n",
    "#     --extra-index-url=https://pypi.nvidia.com \\\n",
    "#     cudf-cu12==24.2.* dask-cudf-cu12==24.2.* cuml-cu12==24.2.* \\\n",
    "#     cugraph-cu12==24.2.* cuspatial-cu12==24.2.* cuproj-cu12==24.2.* \\\n",
    "#     cuxfilter-cu12==24.2.* cucim-cu12==24.2.* pylibraft-cu12==24.2.* \\\n",
    "#     raft-dask-cu12==24.2.*"
   ],
   "metadata": {
    "id": "jgSmGimH_NSV",
    "execution": {
     "iopub.status.busy": "2024-04-18T21:51:14.186048Z",
     "iopub.execute_input": "2024-04-18T21:51:14.186849Z",
     "iopub.status.idle": "2024-04-18T21:51:39.100124Z",
     "shell.execute_reply.started": "2024-04-18T21:51:14.186807Z",
     "shell.execute_reply": "2024-04-18T21:51:39.098677Z"
    },
    "collapsed": true,
    "jupyter": {
     "outputs_hidden": true
    },
    "trusted": true
   },
   "execution_count": 26,
   "outputs": [
    {
     "name": "stdout",
     "text": "Looking in indexes: https://pypi.org/simple, https://pypi.nvidia.com\nRequirement already satisfied: cudf-cu12==24.2.* in /opt/conda/lib/python3.10/site-packages (24.2.2)\nRequirement already satisfied: dask-cudf-cu12==24.2.* in /opt/conda/lib/python3.10/site-packages (24.2.2)\nRequirement already satisfied: cuml-cu12==24.2.* in /opt/conda/lib/python3.10/site-packages (24.2.0)\nRequirement already satisfied: cugraph-cu12==24.2.* in /opt/conda/lib/python3.10/site-packages (24.2.0)\nRequirement already satisfied: cuspatial-cu12==24.2.* in /opt/conda/lib/python3.10/site-packages (24.2.0)\nRequirement already satisfied: cuproj-cu12==24.2.* in /opt/conda/lib/python3.10/site-packages (24.2.0)\nRequirement already satisfied: cuxfilter-cu12==24.2.* in /opt/conda/lib/python3.10/site-packages (24.2.0)\nRequirement already satisfied: cucim-cu12==24.2.* in /opt/conda/lib/python3.10/site-packages (24.2.0)\nRequirement already satisfied: pylibraft-cu12==24.2.* in /opt/conda/lib/python3.10/site-packages (24.2.0)\nRequirement already satisfied: raft-dask-cu12==24.2.* in /opt/conda/lib/python3.10/site-packages (24.2.0)\nRequirement already satisfied: cachetools in /opt/conda/lib/python3.10/site-packages (from cudf-cu12==24.2.*) (4.2.4)\nRequirement already satisfied: cuda-python<13.0a0,>=12.0 in /opt/conda/lib/python3.10/site-packages (from cudf-cu12==24.2.*) (12.4.0)\nRequirement already satisfied: cupy-cuda12x>=12.0.0 in /opt/conda/lib/python3.10/site-packages (from cudf-cu12==24.2.*) (13.0.0)\nRequirement already satisfied: fsspec>=0.6.0 in /opt/conda/lib/python3.10/site-packages (from cudf-cu12==24.2.*) (2024.2.0)\nRequirement already satisfied: numba>=0.57 in /opt/conda/lib/python3.10/site-packages (from cudf-cu12==24.2.*) (0.58.1)\nRequirement already satisfied: numpy<1.25,>=1.21 in /opt/conda/lib/python3.10/site-packages (from cudf-cu12==24.2.*) (1.24.4)\nRequirement already satisfied: nvtx>=0.2.1 in /opt/conda/lib/python3.10/site-packages (from cudf-cu12==24.2.*) (0.2.10)\nRequirement already satisfied: packaging in /opt/conda/lib/python3.10/site-packages (from cudf-cu12==24.2.*) (24.0)\nCollecting pandas<1.6.0dev0,>=1.3 (from cudf-cu12==24.2.*)\n  Using cached pandas-1.5.3-cp310-cp310-manylinux_2_17_x86_64.manylinux2014_x86_64.whl.metadata (11 kB)\nRequirement already satisfied: protobuf<5,>=4.21 in /opt/conda/lib/python3.10/site-packages (from cudf-cu12==24.2.*) (4.21.12)\nRequirement already satisfied: pynvjitlink-cu12 in /opt/conda/lib/python3.10/site-packages (from cudf-cu12==24.2.*) (0.2.1)\nRequirement already satisfied: pyarrow<15.0.0a0,>=14.0.1 in /opt/conda/lib/python3.10/site-packages (from cudf-cu12==24.2.*) (14.0.2)\nRequirement already satisfied: rich in /opt/conda/lib/python3.10/site-packages (from cudf-cu12==24.2.*) (13.7.0)\nRequirement already satisfied: rmm-cu12==24.2.* in /opt/conda/lib/python3.10/site-packages (from cudf-cu12==24.2.*) (24.2.0)\nRequirement already satisfied: typing_extensions>=4.0.0 in /opt/conda/lib/python3.10/site-packages (from cudf-cu12==24.2.*) (4.9.0)\nRequirement already satisfied: rapids-dask-dependency==24.2.* in /opt/conda/lib/python3.10/site-packages (from dask-cudf-cu12==24.2.*) (24.2.0)\nRequirement already satisfied: dask-cuda==24.2.* in /opt/conda/lib/python3.10/site-packages (from cuml-cu12==24.2.*) (24.2.0)\nRequirement already satisfied: joblib>=0.11 in /opt/conda/lib/python3.10/site-packages (from cuml-cu12==24.2.*) (1.3.2)\nRequirement already satisfied: scipy>=1.8.0 in /opt/conda/lib/python3.10/site-packages (from cuml-cu12==24.2.*) (1.11.4)\nRequirement already satisfied: treelite==4.0.0 in /opt/conda/lib/python3.10/site-packages (from cuml-cu12==24.2.*) (4.0.0)\nRequirement already satisfied: pylibcugraph-cu12==24.2.* in /opt/conda/lib/python3.10/site-packages (from cugraph-cu12==24.2.*) (24.2.0)\nRequirement already satisfied: ucx-py-cu12==0.36.* in /opt/conda/lib/python3.10/site-packages (from cugraph-cu12==24.2.*) (0.36.0)\nRequirement already satisfied: geopandas>=0.11.0 in /opt/conda/lib/python3.10/site-packages (from cuspatial-cu12==24.2.*) (0.14.3)\nRequirement already satisfied: bokeh>=3.1 in /opt/conda/lib/python3.10/site-packages (from cuxfilter-cu12==24.2.*) (3.3.4)\nRequirement already satisfied: datashader>=0.15 in /opt/conda/lib/python3.10/site-packages (from cuxfilter-cu12==24.2.*) (0.16.0)\nRequirement already satisfied: holoviews>=1.16.0 in /opt/conda/lib/python3.10/site-packages (from cuxfilter-cu12==24.2.*) (1.18.3)\nRequirement already satisfied: jupyter-server-proxy in /opt/conda/lib/python3.10/site-packages (from cuxfilter-cu12==24.2.*) (4.1.0)\nRequirement already satisfied: panel>=1.0 in /opt/conda/lib/python3.10/site-packages (from cuxfilter-cu12==24.2.*) (1.3.8)\nRequirement already satisfied: lazy-loader>=0.1 in /opt/conda/lib/python3.10/site-packages (from cucim-cu12==24.2.*) (0.3)\nRequirement already satisfied: scikit-image<0.23.0a0,>=0.19.0 in /opt/conda/lib/python3.10/site-packages (from cucim-cu12==24.2.*) (0.22.0)\nRequirement already satisfied: click>=8.1 in /opt/conda/lib/python3.10/site-packages (from dask-cuda==24.2.*->cuml-cu12==24.2.*) (8.1.7)\nRequirement already satisfied: pynvml<11.5,>=11.0.0 in /opt/conda/lib/python3.10/site-packages (from dask-cuda==24.2.*->cuml-cu12==24.2.*) (11.4.1)\nRequirement already satisfied: zict>=2.0.0 in /opt/conda/lib/python3.10/site-packages (from dask-cuda==24.2.*->cuml-cu12==24.2.*) (3.0.0)\nRequirement already satisfied: dask==2024.1.1 in /opt/conda/lib/python3.10/site-packages (from rapids-dask-dependency==24.2.*->dask-cudf-cu12==24.2.*) (2024.1.1)\nRequirement already satisfied: distributed==2024.1.1 in /opt/conda/lib/python3.10/site-packages (from rapids-dask-dependency==24.2.*->dask-cudf-cu12==24.2.*) (2024.1.1)\nRequirement already satisfied: cloudpickle>=1.5.0 in /opt/conda/lib/python3.10/site-packages (from dask==2024.1.1->rapids-dask-dependency==24.2.*->dask-cudf-cu12==24.2.*) (2.2.1)\nRequirement already satisfied: partd>=1.2.0 in /opt/conda/lib/python3.10/site-packages (from dask==2024.1.1->rapids-dask-dependency==24.2.*->dask-cudf-cu12==24.2.*) (1.4.1)\nRequirement already satisfied: pyyaml>=5.3.1 in /opt/conda/lib/python3.10/site-packages (from dask==2024.1.1->rapids-dask-dependency==24.2.*->dask-cudf-cu12==24.2.*) (6.0.1)\nRequirement already satisfied: toolz>=0.10.0 in /opt/conda/lib/python3.10/site-packages (from dask==2024.1.1->rapids-dask-dependency==24.2.*->dask-cudf-cu12==24.2.*) (0.12.1)\nRequirement already satisfied: importlib-metadata>=4.13.0 in /opt/conda/lib/python3.10/site-packages (from dask==2024.1.1->rapids-dask-dependency==24.2.*->dask-cudf-cu12==24.2.*) (6.11.0)\nRequirement already satisfied: jinja2>=2.10.3 in /opt/conda/lib/python3.10/site-packages (from distributed==2024.1.1->rapids-dask-dependency==24.2.*->dask-cudf-cu12==24.2.*) (3.1.2)\nRequirement already satisfied: locket>=1.0.0 in /opt/conda/lib/python3.10/site-packages (from distributed==2024.1.1->rapids-dask-dependency==24.2.*->dask-cudf-cu12==24.2.*) (1.0.0)\nRequirement already satisfied: msgpack>=1.0.0 in /opt/conda/lib/python3.10/site-packages (from distributed==2024.1.1->rapids-dask-dependency==24.2.*->dask-cudf-cu12==24.2.*) (1.0.7)\nRequirement already satisfied: psutil>=5.7.2 in /opt/conda/lib/python3.10/site-packages (from distributed==2024.1.1->rapids-dask-dependency==24.2.*->dask-cudf-cu12==24.2.*) (5.9.3)\nRequirement already satisfied: sortedcontainers>=2.0.5 in /opt/conda/lib/python3.10/site-packages (from distributed==2024.1.1->rapids-dask-dependency==24.2.*->dask-cudf-cu12==24.2.*) (2.4.0)\nRequirement already satisfied: tblib>=1.6.0 in /opt/conda/lib/python3.10/site-packages (from distributed==2024.1.1->rapids-dask-dependency==24.2.*->dask-cudf-cu12==24.2.*) (3.0.0)\nRequirement already satisfied: tornado>=6.0.4 in /opt/conda/lib/python3.10/site-packages (from distributed==2024.1.1->rapids-dask-dependency==24.2.*->dask-cudf-cu12==24.2.*) (6.3.3)\nRequirement already satisfied: urllib3>=1.24.3 in /opt/conda/lib/python3.10/site-packages (from distributed==2024.1.1->rapids-dask-dependency==24.2.*->dask-cudf-cu12==24.2.*) (1.26.18)\nRequirement already satisfied: contourpy>=1 in /opt/conda/lib/python3.10/site-packages (from bokeh>=3.1->cuxfilter-cu12==24.2.*) (1.2.0)\nRequirement already satisfied: pillow>=7.1.0 in /opt/conda/lib/python3.10/site-packages (from bokeh>=3.1->cuxfilter-cu12==24.2.*) (9.5.0)\nRequirement already satisfied: xyzservices>=2021.09.1 in /opt/conda/lib/python3.10/site-packages (from bokeh>=3.1->cuxfilter-cu12==24.2.*) (2023.10.1)\nRequirement already satisfied: fastrlock>=0.5 in /opt/conda/lib/python3.10/site-packages (from cupy-cuda12x>=12.0.0->cudf-cu12==24.2.*) (0.8.2)\nRequirement already satisfied: colorcet in /opt/conda/lib/python3.10/site-packages (from datashader>=0.15->cuxfilter-cu12==24.2.*) (3.1.0)\nRequirement already satisfied: multipledispatch in /opt/conda/lib/python3.10/site-packages (from datashader>=0.15->cuxfilter-cu12==24.2.*) (1.0.0)\nRequirement already satisfied: param in /opt/conda/lib/python3.10/site-packages (from datashader>=0.15->cuxfilter-cu12==24.2.*) (2.1.0)\nRequirement already satisfied: pyct in /opt/conda/lib/python3.10/site-packages (from datashader>=0.15->cuxfilter-cu12==24.2.*) (0.5.0)\nRequirement already satisfied: requests in /opt/conda/lib/python3.10/site-packages (from datashader>=0.15->cuxfilter-cu12==24.2.*) (2.31.0)\nRequirement already satisfied: xarray in /opt/conda/lib/python3.10/site-packages (from datashader>=0.15->cuxfilter-cu12==24.2.*) (2024.3.0)\nRequirement already satisfied: aiohttp!=4.0.0a0,!=4.0.0a1 in /opt/conda/lib/python3.10/site-packages (from fsspec[http]>=0.6.0->cugraph-cu12==24.2.*) (3.9.1)\nRequirement already satisfied: fiona>=1.8.21 in /opt/conda/lib/python3.10/site-packages (from geopandas>=0.11.0->cuspatial-cu12==24.2.*) (1.9.6)\nRequirement already satisfied: pyproj>=3.3.0 in /opt/conda/lib/python3.10/site-packages (from geopandas>=0.11.0->cuspatial-cu12==24.2.*) (3.6.1)\nRequirement already satisfied: shapely>=1.8.0 in /opt/conda/lib/python3.10/site-packages (from geopandas>=0.11.0->cuspatial-cu12==24.2.*) (1.8.5.post1)\nRequirement already satisfied: pyviz-comms>=0.7.4 in /opt/conda/lib/python3.10/site-packages (from holoviews>=1.16.0->cuxfilter-cu12==24.2.*) (3.0.2)\nRequirement already satisfied: llvmlite<0.42,>=0.41.0dev0 in /opt/conda/lib/python3.10/site-packages (from numba>=0.57->cudf-cu12==24.2.*) (0.41.1)\nRequirement already satisfied: python-dateutil>=2.8.1 in /opt/conda/lib/python3.10/site-packages (from pandas<1.6.0dev0,>=1.3->cudf-cu12==24.2.*) (2.9.0.post0)\nRequirement already satisfied: pytz>=2020.1 in /opt/conda/lib/python3.10/site-packages (from pandas<1.6.0dev0,>=1.3->cudf-cu12==24.2.*) (2023.3.post1)\nRequirement already satisfied: markdown in /opt/conda/lib/python3.10/site-packages (from panel>=1.0->cuxfilter-cu12==24.2.*) (3.5.2)\nRequirement already satisfied: markdown-it-py in /opt/conda/lib/python3.10/site-packages (from panel>=1.0->cuxfilter-cu12==24.2.*) (3.0.0)\nRequirement already satisfied: linkify-it-py in /opt/conda/lib/python3.10/site-packages (from panel>=1.0->cuxfilter-cu12==24.2.*) (2.0.3)\nRequirement already satisfied: mdit-py-plugins in /opt/conda/lib/python3.10/site-packages (from panel>=1.0->cuxfilter-cu12==24.2.*) (0.4.0)\nRequirement already satisfied: tqdm>=4.48.0 in /opt/conda/lib/python3.10/site-packages (from panel>=1.0->cuxfilter-cu12==24.2.*) (4.66.1)\nRequirement already satisfied: bleach in /opt/conda/lib/python3.10/site-packages (from panel>=1.0->cuxfilter-cu12==24.2.*) (6.1.0)\nRequirement already satisfied: networkx>=2.8 in /opt/conda/lib/python3.10/site-packages (from scikit-image<0.23.0a0,>=0.19.0->cucim-cu12==24.2.*) (3.2.1)\nRequirement already satisfied: imageio>=2.27 in /opt/conda/lib/python3.10/site-packages (from scikit-image<0.23.0a0,>=0.19.0->cucim-cu12==24.2.*) (2.33.1)\nRequirement already satisfied: tifffile>=2022.8.12 in /opt/conda/lib/python3.10/site-packages (from scikit-image<0.23.0a0,>=0.19.0->cucim-cu12==24.2.*) (2023.12.9)\nRequirement already satisfied: jupyter-server>=1.0 in /opt/conda/lib/python3.10/site-packages (from jupyter-server-proxy->cuxfilter-cu12==24.2.*) (2.13.0)\nRequirement already satisfied: simpervisor>=1.0 in /opt/conda/lib/python3.10/site-packages (from jupyter-server-proxy->cuxfilter-cu12==24.2.*) (1.0.0)\nRequirement already satisfied: pygments<3.0.0,>=2.13.0 in /opt/conda/lib/python3.10/site-packages (from rich->cudf-cu12==24.2.*) (2.17.2)\nRequirement already satisfied: attrs>=17.3.0 in /opt/conda/lib/python3.10/site-packages (from aiohttp!=4.0.0a0,!=4.0.0a1->fsspec[http]>=0.6.0->cugraph-cu12==24.2.*) (23.2.0)\nRequirement already satisfied: multidict<7.0,>=4.5 in /opt/conda/lib/python3.10/site-packages (from aiohttp!=4.0.0a0,!=4.0.0a1->fsspec[http]>=0.6.0->cugraph-cu12==24.2.*) (6.0.4)\nRequirement already satisfied: yarl<2.0,>=1.0 in /opt/conda/lib/python3.10/site-packages (from aiohttp!=4.0.0a0,!=4.0.0a1->fsspec[http]>=0.6.0->cugraph-cu12==24.2.*) (1.9.3)\nRequirement already satisfied: frozenlist>=1.1.1 in /opt/conda/lib/python3.10/site-packages (from aiohttp!=4.0.0a0,!=4.0.0a1->fsspec[http]>=0.6.0->cugraph-cu12==24.2.*) (1.4.1)\nRequirement already satisfied: aiosignal>=1.1.2 in /opt/conda/lib/python3.10/site-packages (from aiohttp!=4.0.0a0,!=4.0.0a1->fsspec[http]>=0.6.0->cugraph-cu12==24.2.*) (1.3.1)\nRequirement already satisfied: async-timeout<5.0,>=4.0 in /opt/conda/lib/python3.10/site-packages (from aiohttp!=4.0.0a0,!=4.0.0a1->fsspec[http]>=0.6.0->cugraph-cu12==24.2.*) (4.0.3)\nRequirement already satisfied: certifi in /opt/conda/lib/python3.10/site-packages (from fiona>=1.8.21->geopandas>=0.11.0->cuspatial-cu12==24.2.*) (2024.2.2)\nRequirement already satisfied: click-plugins>=1.0 in /opt/conda/lib/python3.10/site-packages (from fiona>=1.8.21->geopandas>=0.11.0->cuspatial-cu12==24.2.*) (1.1.1)\nRequirement already satisfied: cligj>=0.5 in /opt/conda/lib/python3.10/site-packages (from fiona>=1.8.21->geopandas>=0.11.0->cuspatial-cu12==24.2.*) (0.7.2)\nRequirement already satisfied: six in /opt/conda/lib/python3.10/site-packages (from fiona>=1.8.21->geopandas>=0.11.0->cuspatial-cu12==24.2.*) (1.16.0)\nRequirement already satisfied: MarkupSafe>=2.0 in /opt/conda/lib/python3.10/site-packages (from jinja2>=2.10.3->distributed==2024.1.1->rapids-dask-dependency==24.2.*->dask-cudf-cu12==24.2.*) (2.1.3)\nRequirement already satisfied: anyio>=3.1.0 in /opt/conda/lib/python3.10/site-packages (from jupyter-server>=1.0->jupyter-server-proxy->cuxfilter-cu12==24.2.*) (4.2.0)\nRequirement already satisfied: argon2-cffi in /opt/conda/lib/python3.10/site-packages (from jupyter-server>=1.0->jupyter-server-proxy->cuxfilter-cu12==24.2.*) (23.1.0)\nRequirement already satisfied: jupyter-client>=7.4.4 in /opt/conda/lib/python3.10/site-packages (from jupyter-server>=1.0->jupyter-server-proxy->cuxfilter-cu12==24.2.*) (7.4.9)\nRequirement already satisfied: jupyter-core!=5.0.*,>=4.12 in /opt/conda/lib/python3.10/site-packages (from jupyter-server>=1.0->jupyter-server-proxy->cuxfilter-cu12==24.2.*) (5.7.1)\nRequirement already satisfied: jupyter-events>=0.9.0 in /opt/conda/lib/python3.10/site-packages (from jupyter-server>=1.0->jupyter-server-proxy->cuxfilter-cu12==24.2.*) (0.9.0)\nRequirement already satisfied: jupyter-server-terminals in /opt/conda/lib/python3.10/site-packages (from jupyter-server>=1.0->jupyter-server-proxy->cuxfilter-cu12==24.2.*) (0.5.1)\nRequirement already satisfied: nbconvert>=6.4.4 in /opt/conda/lib/python3.10/site-packages (from jupyter-server>=1.0->jupyter-server-proxy->cuxfilter-cu12==24.2.*) (6.4.5)\nRequirement already satisfied: nbformat>=5.3.0 in /opt/conda/lib/python3.10/site-packages (from jupyter-server>=1.0->jupyter-server-proxy->cuxfilter-cu12==24.2.*) (5.9.2)\nRequirement already satisfied: overrides in /opt/conda/lib/python3.10/site-packages (from jupyter-server>=1.0->jupyter-server-proxy->cuxfilter-cu12==24.2.*) (7.4.0)\nRequirement already satisfied: prometheus-client in /opt/conda/lib/python3.10/site-packages (from jupyter-server>=1.0->jupyter-server-proxy->cuxfilter-cu12==24.2.*) (0.19.0)\nRequirement already satisfied: pyzmq>=24 in /opt/conda/lib/python3.10/site-packages (from jupyter-server>=1.0->jupyter-server-proxy->cuxfilter-cu12==24.2.*) (24.0.1)\nRequirement already satisfied: send2trash>=1.8.2 in /opt/conda/lib/python3.10/site-packages (from jupyter-server>=1.0->jupyter-server-proxy->cuxfilter-cu12==24.2.*) (1.8.2)\nRequirement already satisfied: terminado>=0.8.3 in /opt/conda/lib/python3.10/site-packages (from jupyter-server>=1.0->jupyter-server-proxy->cuxfilter-cu12==24.2.*) (0.18.0)\nRequirement already satisfied: traitlets>=5.6.0 in /opt/conda/lib/python3.10/site-packages (from jupyter-server>=1.0->jupyter-server-proxy->cuxfilter-cu12==24.2.*) (5.9.0)\nRequirement already satisfied: websocket-client in /opt/conda/lib/python3.10/site-packages (from jupyter-server>=1.0->jupyter-server-proxy->cuxfilter-cu12==24.2.*) (1.7.0)\nRequirement already satisfied: mdurl~=0.1 in /opt/conda/lib/python3.10/site-packages (from markdown-it-py->panel>=1.0->cuxfilter-cu12==24.2.*) (0.1.2)\nRequirement already satisfied: webencodings in /opt/conda/lib/python3.10/site-packages (from bleach->panel>=1.0->cuxfilter-cu12==24.2.*) (0.5.1)\nRequirement already satisfied: uc-micro-py in /opt/conda/lib/python3.10/site-packages (from linkify-it-py->panel>=1.0->cuxfilter-cu12==24.2.*) (1.0.3)\nRequirement already satisfied: charset-normalizer<4,>=2 in /opt/conda/lib/python3.10/site-packages (from requests->datashader>=0.15->cuxfilter-cu12==24.2.*) (3.3.2)\nRequirement already satisfied: idna<4,>=2.5 in /opt/conda/lib/python3.10/site-packages (from requests->datashader>=0.15->cuxfilter-cu12==24.2.*) (3.6)\nRequirement already satisfied: sniffio>=1.1 in /opt/conda/lib/python3.10/site-packages (from anyio>=3.1.0->jupyter-server>=1.0->jupyter-server-proxy->cuxfilter-cu12==24.2.*) (1.3.0)\nRequirement already satisfied: exceptiongroup>=1.0.2 in /opt/conda/lib/python3.10/site-packages (from anyio>=3.1.0->jupyter-server>=1.0->jupyter-server-proxy->cuxfilter-cu12==24.2.*) (1.2.0)\nRequirement already satisfied: zipp>=0.5 in /opt/conda/lib/python3.10/site-packages (from importlib-metadata>=4.13.0->dask==2024.1.1->rapids-dask-dependency==24.2.*->dask-cudf-cu12==24.2.*) (3.17.0)\nRequirement already satisfied: entrypoints in /opt/conda/lib/python3.10/site-packages (from jupyter-client>=7.4.4->jupyter-server>=1.0->jupyter-server-proxy->cuxfilter-cu12==24.2.*) (0.4)\nRequirement already satisfied: nest-asyncio>=1.5.4 in /opt/conda/lib/python3.10/site-packages (from jupyter-client>=7.4.4->jupyter-server>=1.0->jupyter-server-proxy->cuxfilter-cu12==24.2.*) (1.5.8)\nRequirement already satisfied: platformdirs>=2.5 in /opt/conda/lib/python3.10/site-packages (from jupyter-core!=5.0.*,>=4.12->jupyter-server>=1.0->jupyter-server-proxy->cuxfilter-cu12==24.2.*) (4.2.0)\nRequirement already satisfied: jsonschema>=4.18.0 in /opt/conda/lib/python3.10/site-packages (from jsonschema[format-nongpl]>=4.18.0->jupyter-events>=0.9.0->jupyter-server>=1.0->jupyter-server-proxy->cuxfilter-cu12==24.2.*) (4.20.0)\nRequirement already satisfied: python-json-logger>=2.0.4 in /opt/conda/lib/python3.10/site-packages (from jupyter-events>=0.9.0->jupyter-server>=1.0->jupyter-server-proxy->cuxfilter-cu12==24.2.*) (2.0.7)\nRequirement already satisfied: referencing in /opt/conda/lib/python3.10/site-packages (from jupyter-events>=0.9.0->jupyter-server>=1.0->jupyter-server-proxy->cuxfilter-cu12==24.2.*) (0.32.1)\nRequirement already satisfied: rfc3339-validator in /opt/conda/lib/python3.10/site-packages (from jupyter-events>=0.9.0->jupyter-server>=1.0->jupyter-server-proxy->cuxfilter-cu12==24.2.*) (0.1.4)\nRequirement already satisfied: rfc3986-validator>=0.1.1 in /opt/conda/lib/python3.10/site-packages (from jupyter-events>=0.9.0->jupyter-server>=1.0->jupyter-server-proxy->cuxfilter-cu12==24.2.*) (0.1.1)\nRequirement already satisfied: mistune<2,>=0.8.1 in /opt/conda/lib/python3.10/site-packages (from nbconvert>=6.4.4->jupyter-server>=1.0->jupyter-server-proxy->cuxfilter-cu12==24.2.*) (0.8.4)\nRequirement already satisfied: jupyterlab-pygments in /opt/conda/lib/python3.10/site-packages (from nbconvert>=6.4.4->jupyter-server>=1.0->jupyter-server-proxy->cuxfilter-cu12==24.2.*) (0.3.0)\nRequirement already satisfied: pandocfilters>=1.4.1 in /opt/conda/lib/python3.10/site-packages (from nbconvert>=6.4.4->jupyter-server>=1.0->jupyter-server-proxy->cuxfilter-cu12==24.2.*) (1.5.0)\nRequirement already satisfied: testpath in /opt/conda/lib/python3.10/site-packages (from nbconvert>=6.4.4->jupyter-server>=1.0->jupyter-server-proxy->cuxfilter-cu12==24.2.*) (0.6.0)\nRequirement already satisfied: defusedxml in /opt/conda/lib/python3.10/site-packages (from nbconvert>=6.4.4->jupyter-server>=1.0->jupyter-server-proxy->cuxfilter-cu12==24.2.*) (0.7.1)\nRequirement already satisfied: beautifulsoup4 in /opt/conda/lib/python3.10/site-packages (from nbconvert>=6.4.4->jupyter-server>=1.0->jupyter-server-proxy->cuxfilter-cu12==24.2.*) (4.12.2)\nRequirement already satisfied: nbclient<0.6.0,>=0.5.0 in /opt/conda/lib/python3.10/site-packages (from nbconvert>=6.4.4->jupyter-server>=1.0->jupyter-server-proxy->cuxfilter-cu12==24.2.*) (0.5.13)\nRequirement already satisfied: fastjsonschema in /opt/conda/lib/python3.10/site-packages (from nbformat>=5.3.0->jupyter-server>=1.0->jupyter-server-proxy->cuxfilter-cu12==24.2.*) (2.19.1)\nRequirement already satisfied: ptyprocess in /opt/conda/lib/python3.10/site-packages (from terminado>=0.8.3->jupyter-server>=1.0->jupyter-server-proxy->cuxfilter-cu12==24.2.*) (0.7.0)\nRequirement already satisfied: argon2-cffi-bindings in /opt/conda/lib/python3.10/site-packages (from argon2-cffi->jupyter-server>=1.0->jupyter-server-proxy->cuxfilter-cu12==24.2.*) (21.2.0)\nRequirement already satisfied: jsonschema-specifications>=2023.03.6 in /opt/conda/lib/python3.10/site-packages (from jsonschema>=4.18.0->jsonschema[format-nongpl]>=4.18.0->jupyter-events>=0.9.0->jupyter-server>=1.0->jupyter-server-proxy->cuxfilter-cu12==24.2.*) (2023.12.1)\nRequirement already satisfied: rpds-py>=0.7.1 in /opt/conda/lib/python3.10/site-packages (from jsonschema>=4.18.0->jsonschema[format-nongpl]>=4.18.0->jupyter-events>=0.9.0->jupyter-server>=1.0->jupyter-server-proxy->cuxfilter-cu12==24.2.*) (0.16.2)\nRequirement already satisfied: fqdn in /opt/conda/lib/python3.10/site-packages (from jsonschema[format-nongpl]>=4.18.0->jupyter-events>=0.9.0->jupyter-server>=1.0->jupyter-server-proxy->cuxfilter-cu12==24.2.*) (1.5.1)\nRequirement already satisfied: isoduration in /opt/conda/lib/python3.10/site-packages (from jsonschema[format-nongpl]>=4.18.0->jupyter-events>=0.9.0->jupyter-server>=1.0->jupyter-server-proxy->cuxfilter-cu12==24.2.*) (20.11.0)\nRequirement already satisfied: jsonpointer>1.13 in /opt/conda/lib/python3.10/site-packages (from jsonschema[format-nongpl]>=4.18.0->jupyter-events>=0.9.0->jupyter-server>=1.0->jupyter-server-proxy->cuxfilter-cu12==24.2.*) (2.4)\nRequirement already satisfied: uri-template in /opt/conda/lib/python3.10/site-packages (from jsonschema[format-nongpl]>=4.18.0->jupyter-events>=0.9.0->jupyter-server>=1.0->jupyter-server-proxy->cuxfilter-cu12==24.2.*) (1.3.0)\nRequirement already satisfied: webcolors>=1.11 in /opt/conda/lib/python3.10/site-packages (from jsonschema[format-nongpl]>=4.18.0->jupyter-events>=0.9.0->jupyter-server>=1.0->jupyter-server-proxy->cuxfilter-cu12==24.2.*) (1.13)\nRequirement already satisfied: cffi>=1.0.1 in /opt/conda/lib/python3.10/site-packages (from argon2-cffi-bindings->argon2-cffi->jupyter-server>=1.0->jupyter-server-proxy->cuxfilter-cu12==24.2.*) (1.16.0)\nRequirement already satisfied: soupsieve>1.2 in /opt/conda/lib/python3.10/site-packages (from beautifulsoup4->nbconvert>=6.4.4->jupyter-server>=1.0->jupyter-server-proxy->cuxfilter-cu12==24.2.*) (2.5)\nRequirement already satisfied: pycparser in /opt/conda/lib/python3.10/site-packages (from cffi>=1.0.1->argon2-cffi-bindings->argon2-cffi->jupyter-server>=1.0->jupyter-server-proxy->cuxfilter-cu12==24.2.*) (2.21)\nRequirement already satisfied: arrow>=0.15.0 in /opt/conda/lib/python3.10/site-packages (from isoduration->jsonschema[format-nongpl]>=4.18.0->jupyter-events>=0.9.0->jupyter-server>=1.0->jupyter-server-proxy->cuxfilter-cu12==24.2.*) (1.3.0)\nRequirement already satisfied: types-python-dateutil>=2.8.10 in /opt/conda/lib/python3.10/site-packages (from arrow>=0.15.0->isoduration->jsonschema[format-nongpl]>=4.18.0->jupyter-events>=0.9.0->jupyter-server>=1.0->jupyter-server-proxy->cuxfilter-cu12==24.2.*) (2.8.19.20240106)\nUsing cached pandas-1.5.3-cp310-cp310-manylinux_2_17_x86_64.manylinux2014_x86_64.whl (12.1 MB)\nInstalling collected packages: pandas\n  Attempting uninstall: pandas\n    Found existing installation: pandas 2.1.4\n    Uninstalling pandas-2.1.4:\n      Successfully uninstalled pandas-2.1.4\n\u001B[31mERROR: pip's dependency resolver does not currently take into account all the packages that are installed. This behaviour is the source of the following dependency conflicts.\ncudf 23.8.0 requires cubinlinker, which is not installed.\ncudf 23.8.0 requires cupy-cuda11x>=12.0.0, which is not installed.\ncudf 23.8.0 requires ptxcompiler, which is not installed.\ncuml 23.8.0 requires cupy-cuda11x>=12.0.0, which is not installed.\ndask-cudf 23.8.0 requires cupy-cuda11x>=12.0.0, which is not installed.\ntensorflow-decision-forests 1.8.1 requires wurlitzer, which is not installed.\nbeatrix-jupyterlab 2023.128.151533 requires jupyterlab~=3.6.0, but you have jupyterlab 4.1.5 which is incompatible.\ncudf 23.8.0 requires cuda-python<12.0a0,>=11.7.1, but you have cuda-python 12.4.0 which is incompatible.\ncudf 23.8.0 requires pyarrow==11.*, but you have pyarrow 14.0.2 which is incompatible.\ncuml 23.8.0 requires dask==2023.7.1, but you have dask 2024.1.1 which is incompatible.\ncuml 23.8.0 requires dask-cuda==23.8.*, but you have dask-cuda 24.2.0 which is incompatible.\ncuml 23.8.0 requires distributed==2023.7.1, but you have distributed 2024.1.1 which is incompatible.\ncuml 23.8.0 requires treelite==3.2.0, but you have treelite 4.0.0 which is incompatible.\ndask-cudf 23.8.0 requires dask==2023.7.1, but you have dask 2024.1.1 which is incompatible.\ndask-cudf 23.8.0 requires distributed==2023.7.1, but you have distributed 2024.1.1 which is incompatible.\ndask-expr 1.0.9 requires dask==2024.4.0, but you have dask 2024.1.1 which is incompatible.\ndask-expr 1.0.9 requires pandas>=2, but you have pandas 1.5.3 which is incompatible.\nfeaturetools 1.30.0 requires numpy>=1.25.0, but you have numpy 1.24.4 which is incompatible.\nfeaturetools 1.30.0 requires pandas>=2.0.0, but you have pandas 1.5.3 which is incompatible.\nlibpysal 4.9.2 requires shapely>=2.0.1, but you have shapely 1.8.5.post1 which is incompatible.\nmizani 0.11.1 requires pandas>=2.1.0, but you have pandas 1.5.3 which is incompatible.\nmomepy 0.7.0 requires shapely>=2, but you have shapely 1.8.5.post1 which is incompatible.\nosmnx 1.9.2 requires shapely>=2.0, but you have shapely 1.8.5.post1 which is incompatible.\nplotnine 0.13.4 requires pandas<3.0.0,>=2.1.0, but you have pandas 1.5.3 which is incompatible.\npyldavis 3.4.1 requires pandas>=2.0.0, but you have pandas 1.5.3 which is incompatible.\nraft-dask 23.8.0 requires dask==2023.7.1, but you have dask 2024.1.1 which is incompatible.\nraft-dask 23.8.0 requires dask-cuda==23.8.*, but you have dask-cuda 24.2.0 which is incompatible.\nraft-dask 23.8.0 requires distributed==2023.7.1, but you have distributed 2024.1.1 which is incompatible.\nspopt 0.6.0 requires shapely>=2.0.1, but you have shapely 1.8.5.post1 which is incompatible.\nwoodwork 0.29.0 requires numpy>=1.25.0, but you have numpy 1.24.4 which is incompatible.\u001B[0m\u001B[31m\n\u001B[0mSuccessfully installed pandas-1.5.3\n",
     "output_type": "stream"
    }
   ]
  },
  {
   "cell_type": "code",
   "source": "# Importing necessary libraries\nimport pandas as pd\nimport cudf\nimport cupy as cp\n\nimport numpy as np\nimport matplotlib.pyplot as plt\nimport seaborn as sns\nimport time",
   "metadata": {
    "id": "bN2nkCLa-Djp",
    "execution": {
     "iopub.status.busy": "2024-04-18T22:15:37.763920Z",
     "iopub.execute_input": "2024-04-18T22:15:37.764361Z",
     "iopub.status.idle": "2024-04-18T22:15:37.770543Z",
     "shell.execute_reply.started": "2024-04-18T22:15:37.764327Z",
     "shell.execute_reply": "2024-04-18T22:15:37.769398Z"
    },
    "trusted": true
   },
   "execution_count": 27,
   "outputs": []
  },
  {
   "cell_type": "markdown",
   "source": "## Loading the Datasts",
   "metadata": {
    "id": "WSSARyiMS8zo"
   }
  },
  {
   "cell_type": "code",
   "source": "# create a dataframe to hold CPU Metrics\ncpu_metrics = pd.DataFrame(columns=['Task', 'start_time', 'end_time', 'time_taken'])\n\n# create a dataframe to hold GPU Metrics\ngpu_metrics = pd.DataFrame(columns=['Task', 'start_time', 'end_time', 'time_taken'])",
   "metadata": {
    "id": "P5psa3tnSYAT",
    "execution": {
     "iopub.status.busy": "2024-04-18T22:15:39.762983Z",
     "iopub.execute_input": "2024-04-18T22:15:39.764033Z",
     "iopub.status.idle": "2024-04-18T22:15:39.772317Z",
     "shell.execute_reply.started": "2024-04-18T22:15:39.763996Z",
     "shell.execute_reply": "2024-04-18T22:15:39.771047Z"
    },
    "trusted": true
   },
   "execution_count": 28,
   "outputs": []
  },
  {
   "cell_type": "code",
   "source": "# Load the data using cuDF\nstart_time_gpu = time.time()\nsample_submission_gpu = cudf.read_csv('/kaggle/input/taxi-datasets/sample_submission.csv')\ntest_gpu = cudf.read_csv('/kaggle/input/taxi-datasets/test.csv')\ntrain_gpu = cudf.read_csv('/kaggle/input/taxi-datasets/train.csv')\nend_time_gpu = time.time()",
   "metadata": {
    "id": "YllkRuiISYgh",
    "execution": {
     "iopub.status.busy": "2024-04-18T22:15:41.251056Z",
     "iopub.execute_input": "2024-04-18T22:15:41.251456Z",
     "iopub.status.idle": "2024-04-18T22:15:41.555721Z",
     "shell.execute_reply.started": "2024-04-18T22:15:41.251426Z",
     "shell.execute_reply": "2024-04-18T22:15:41.554709Z"
    },
    "trusted": true
   },
   "execution_count": 29,
   "outputs": []
  },
  {
   "cell_type": "code",
   "source": "# Load the data using pandas\nstart_time_cpu = time.time()\nsample_submission_cpu = pd.read_csv('/kaggle/input/taxi-datasets/sample_submission.csv')\ntest_cpu = pd.read_csv('/kaggle/input/taxi-datasets/test.csv')\ntrain_cpu = pd.read_csv('/kaggle/input/taxi-datasets/train.csv')\nend_time_cpu = time.time()",
   "metadata": {
    "id": "dPaqvcTASa5x",
    "execution": {
     "iopub.status.busy": "2024-04-18T22:15:43.772882Z",
     "iopub.execute_input": "2024-04-18T22:15:43.773283Z",
     "iopub.status.idle": "2024-04-18T22:15:50.652855Z",
     "shell.execute_reply.started": "2024-04-18T22:15:43.773254Z",
     "shell.execute_reply": "2024-04-18T22:15:50.651951Z"
    },
    "trusted": true
   },
   "execution_count": 30,
   "outputs": []
  },
  {
   "cell_type": "code",
   "source": "# Display the time taken for data loading using pandas\nprint(\"Time taken for data loading using pandas: \", end_time_cpu - start_time_cpu)\n# Display the time taken for data loading using cuDF\nprint(\"Time taken for data loading using GUP: \", end_time_gpu - start_time_gpu)",
   "metadata": {
    "colab": {
     "base_uri": "https://localhost:8080/"
    },
    "id": "uexeYMYtSdQM",
    "outputId": "aaf1e4d5-ca01-49b1-e797-0505936aae57",
    "execution": {
     "iopub.status.busy": "2024-04-18T22:16:28.490618Z",
     "iopub.execute_input": "2024-04-18T22:16:28.491016Z",
     "iopub.status.idle": "2024-04-18T22:16:28.497258Z",
     "shell.execute_reply.started": "2024-04-18T22:16:28.490987Z",
     "shell.execute_reply": "2024-04-18T22:16:28.495961Z"
    },
    "trusted": true
   },
   "execution_count": 31,
   "outputs": [
    {
     "name": "stdout",
     "text": "Time taken for data loading using pandas:  6.8751380443573\nTime taken for data loading using GUP:  0.2996237277984619\n",
     "output_type": "stream"
    }
   ]
  },
  {
   "cell_type": "code",
   "source": "# Add the metrics to the dataframe\ncpu_metrics.loc[0] = ['Data Loading', start_time_cpu, end_time_cpu, end_time_cpu - start_time_cpu]\ngpu_metrics.loc[0] = ['Data Loading', start_time_gpu, end_time_gpu, end_time_gpu - start_time_gpu]",
   "metadata": {
    "id": "OvDj4aWuSfxf",
    "execution": {
     "iopub.status.busy": "2024-04-18T22:21:58.687438Z",
     "iopub.execute_input": "2024-04-18T22:21:58.687877Z",
     "iopub.status.idle": "2024-04-18T22:21:58.695880Z",
     "shell.execute_reply.started": "2024-04-18T22:21:58.687845Z",
     "shell.execute_reply": "2024-04-18T22:21:58.694793Z"
    },
    "trusted": true
   },
   "execution_count": 33,
   "outputs": []
  },
  {
   "cell_type": "code",
   "source": "sample_submission_cpu.head(5)",
   "metadata": {
    "colab": {
     "base_uri": "https://localhost:8080/",
     "height": 206
    },
    "id": "9H5Y29KSShxF",
    "outputId": "4e5fc1ca-389e-42f8-d2cd-da0e9668f5ba",
    "execution": {
     "iopub.status.busy": "2024-04-18T22:22:00.959350Z",
     "iopub.execute_input": "2024-04-18T22:22:00.960107Z",
     "iopub.status.idle": "2024-04-18T22:22:00.972325Z",
     "shell.execute_reply.started": "2024-04-18T22:22:00.960072Z",
     "shell.execute_reply": "2024-04-18T22:22:00.971061Z"
    },
    "trusted": true
   },
   "execution_count": 34,
   "outputs": [
    {
     "name": "stderr",
     "text": "/opt/conda/lib/python3.10/site-packages/IPython/core/formatters.py:344: FutureWarning: Index.format is deprecated and will be removed in a future version. Convert using index.astype(str) or index.map(formatter) instead.\n  return method()\n/opt/conda/lib/python3.10/site-packages/IPython/core/formatters.py:344: FutureWarning: RangeIndex.format is deprecated and will be removed in a future version. Convert using index.astype(str) or index.map(formatter) instead.\n  return method()\n",
     "output_type": "stream"
    },
    {
     "execution_count": 34,
     "output_type": "execute_result",
     "data": {
      "text/plain": "          id  trip_duration\n0  id3004672            959\n1  id3505355            959\n2  id1217141            959\n3  id2150126            959\n4  id1598245            959",
      "text/html": "<div>\n<style scoped>\n    .dataframe tbody tr th:only-of-type {\n        vertical-align: middle;\n    }\n\n    .dataframe tbody tr th {\n        vertical-align: top;\n    }\n\n    .dataframe thead th {\n        text-align: right;\n    }\n</style>\n<table border=\"1\" class=\"dataframe\">\n  <thead>\n    <tr style=\"text-align: right;\">\n      <th></th>\n      <th>id</th>\n      <th>trip_duration</th>\n    </tr>\n  </thead>\n  <tbody>\n    <tr>\n      <th>0</th>\n      <td>id3004672</td>\n      <td>959</td>\n    </tr>\n    <tr>\n      <th>1</th>\n      <td>id3505355</td>\n      <td>959</td>\n    </tr>\n    <tr>\n      <th>2</th>\n      <td>id1217141</td>\n      <td>959</td>\n    </tr>\n    <tr>\n      <th>3</th>\n      <td>id2150126</td>\n      <td>959</td>\n    </tr>\n    <tr>\n      <th>4</th>\n      <td>id1598245</td>\n      <td>959</td>\n    </tr>\n  </tbody>\n</table>\n</div>"
     },
     "metadata": {}
    }
   ]
  },
  {
   "cell_type": "code",
   "source": "test_cpu.head(5)",
   "metadata": {
    "colab": {
     "base_uri": "https://localhost:8080/",
     "height": 206
    },
    "id": "upjHLrMYSj3h",
    "outputId": "3ed88f08-0974-4e4a-d9b5-de1984ebb569",
    "execution": {
     "iopub.status.busy": "2024-04-18T22:22:03.451590Z",
     "iopub.execute_input": "2024-04-18T22:22:03.452627Z",
     "iopub.status.idle": "2024-04-18T22:22:03.470010Z",
     "shell.execute_reply.started": "2024-04-18T22:22:03.452590Z",
     "shell.execute_reply": "2024-04-18T22:22:03.468733Z"
    },
    "trusted": true
   },
   "execution_count": 35,
   "outputs": [
    {
     "name": "stderr",
     "text": "/opt/conda/lib/python3.10/site-packages/IPython/core/formatters.py:344: FutureWarning: Index.format is deprecated and will be removed in a future version. Convert using index.astype(str) or index.map(formatter) instead.\n  return method()\n/opt/conda/lib/python3.10/site-packages/IPython/core/formatters.py:344: FutureWarning: RangeIndex.format is deprecated and will be removed in a future version. Convert using index.astype(str) or index.map(formatter) instead.\n  return method()\n",
     "output_type": "stream"
    },
    {
     "execution_count": 35,
     "output_type": "execute_result",
     "data": {
      "text/plain": "          id  vendor_id      pickup_datetime  passenger_count   \n0  id3004672          1  2016-06-30 23:59:58                1  \\\n1  id3505355          1  2016-06-30 23:59:53                1   \n2  id1217141          1  2016-06-30 23:59:47                1   \n3  id2150126          2  2016-06-30 23:59:41                1   \n4  id1598245          1  2016-06-30 23:59:33                1   \n\n   pickup_longitude  pickup_latitude  dropoff_longitude  dropoff_latitude   \n0        -73.988129        40.732029         -73.990173         40.756680  \\\n1        -73.964203        40.679993         -73.959808         40.655403   \n2        -73.997437        40.737583         -73.986160         40.729523   \n3        -73.956070        40.771900         -73.986427         40.730469   \n4        -73.970215        40.761475         -73.961510         40.755890   \n\n  store_and_fwd_flag  \n0                  N  \n1                  N  \n2                  N  \n3                  N  \n4                  N  ",
      "text/html": "<div>\n<style scoped>\n    .dataframe tbody tr th:only-of-type {\n        vertical-align: middle;\n    }\n\n    .dataframe tbody tr th {\n        vertical-align: top;\n    }\n\n    .dataframe thead th {\n        text-align: right;\n    }\n</style>\n<table border=\"1\" class=\"dataframe\">\n  <thead>\n    <tr style=\"text-align: right;\">\n      <th></th>\n      <th>id</th>\n      <th>vendor_id</th>\n      <th>pickup_datetime</th>\n      <th>passenger_count</th>\n      <th>pickup_longitude</th>\n      <th>pickup_latitude</th>\n      <th>dropoff_longitude</th>\n      <th>dropoff_latitude</th>\n      <th>store_and_fwd_flag</th>\n    </tr>\n  </thead>\n  <tbody>\n    <tr>\n      <th>0</th>\n      <td>id3004672</td>\n      <td>1</td>\n      <td>2016-06-30 23:59:58</td>\n      <td>1</td>\n      <td>-73.988129</td>\n      <td>40.732029</td>\n      <td>-73.990173</td>\n      <td>40.756680</td>\n      <td>N</td>\n    </tr>\n    <tr>\n      <th>1</th>\n      <td>id3505355</td>\n      <td>1</td>\n      <td>2016-06-30 23:59:53</td>\n      <td>1</td>\n      <td>-73.964203</td>\n      <td>40.679993</td>\n      <td>-73.959808</td>\n      <td>40.655403</td>\n      <td>N</td>\n    </tr>\n    <tr>\n      <th>2</th>\n      <td>id1217141</td>\n      <td>1</td>\n      <td>2016-06-30 23:59:47</td>\n      <td>1</td>\n      <td>-73.997437</td>\n      <td>40.737583</td>\n      <td>-73.986160</td>\n      <td>40.729523</td>\n      <td>N</td>\n    </tr>\n    <tr>\n      <th>3</th>\n      <td>id2150126</td>\n      <td>2</td>\n      <td>2016-06-30 23:59:41</td>\n      <td>1</td>\n      <td>-73.956070</td>\n      <td>40.771900</td>\n      <td>-73.986427</td>\n      <td>40.730469</td>\n      <td>N</td>\n    </tr>\n    <tr>\n      <th>4</th>\n      <td>id1598245</td>\n      <td>1</td>\n      <td>2016-06-30 23:59:33</td>\n      <td>1</td>\n      <td>-73.970215</td>\n      <td>40.761475</td>\n      <td>-73.961510</td>\n      <td>40.755890</td>\n      <td>N</td>\n    </tr>\n  </tbody>\n</table>\n</div>"
     },
     "metadata": {}
    }
   ]
  },
  {
   "cell_type": "code",
   "source": "train_cpu.head(5)",
   "metadata": {
    "colab": {
     "base_uri": "https://localhost:8080/",
     "height": 206
    },
    "id": "XAGfxvZWSm5i",
    "outputId": "d327cf08-057e-4ffe-aae9-e1a48b95adec",
    "execution": {
     "iopub.status.busy": "2024-04-18T22:22:06.387858Z",
     "iopub.execute_input": "2024-04-18T22:22:06.389013Z",
     "iopub.status.idle": "2024-04-18T22:22:06.407348Z",
     "shell.execute_reply.started": "2024-04-18T22:22:06.388977Z",
     "shell.execute_reply": "2024-04-18T22:22:06.406209Z"
    },
    "trusted": true
   },
   "execution_count": 36,
   "outputs": [
    {
     "name": "stderr",
     "text": "/opt/conda/lib/python3.10/site-packages/IPython/core/formatters.py:344: FutureWarning: Index.format is deprecated and will be removed in a future version. Convert using index.astype(str) or index.map(formatter) instead.\n  return method()\n/opt/conda/lib/python3.10/site-packages/IPython/core/formatters.py:344: FutureWarning: RangeIndex.format is deprecated and will be removed in a future version. Convert using index.astype(str) or index.map(formatter) instead.\n  return method()\n",
     "output_type": "stream"
    },
    {
     "execution_count": 36,
     "output_type": "execute_result",
     "data": {
      "text/plain": "          id  vendor_id      pickup_datetime     dropoff_datetime   \n0  id2875421          2  2016-03-14 17:24:55  2016-03-14 17:32:30  \\\n1  id2377394          1  2016-06-12 00:43:35  2016-06-12 00:54:38   \n2  id3858529          2  2016-01-19 11:35:24  2016-01-19 12:10:48   \n3  id3504673          2  2016-04-06 19:32:31  2016-04-06 19:39:40   \n4  id2181028          2  2016-03-26 13:30:55  2016-03-26 13:38:10   \n\n   passenger_count  pickup_longitude  pickup_latitude  dropoff_longitude   \n0                1        -73.982155        40.767937         -73.964630  \\\n1                1        -73.980415        40.738564         -73.999481   \n2                1        -73.979027        40.763939         -74.005333   \n3                1        -74.010040        40.719971         -74.012268   \n4                1        -73.973053        40.793209         -73.972923   \n\n   dropoff_latitude store_and_fwd_flag  trip_duration  \n0         40.765602                  N            455  \n1         40.731152                  N            663  \n2         40.710087                  N           2124  \n3         40.706718                  N            429  \n4         40.782520                  N            435  ",
      "text/html": "<div>\n<style scoped>\n    .dataframe tbody tr th:only-of-type {\n        vertical-align: middle;\n    }\n\n    .dataframe tbody tr th {\n        vertical-align: top;\n    }\n\n    .dataframe thead th {\n        text-align: right;\n    }\n</style>\n<table border=\"1\" class=\"dataframe\">\n  <thead>\n    <tr style=\"text-align: right;\">\n      <th></th>\n      <th>id</th>\n      <th>vendor_id</th>\n      <th>pickup_datetime</th>\n      <th>dropoff_datetime</th>\n      <th>passenger_count</th>\n      <th>pickup_longitude</th>\n      <th>pickup_latitude</th>\n      <th>dropoff_longitude</th>\n      <th>dropoff_latitude</th>\n      <th>store_and_fwd_flag</th>\n      <th>trip_duration</th>\n    </tr>\n  </thead>\n  <tbody>\n    <tr>\n      <th>0</th>\n      <td>id2875421</td>\n      <td>2</td>\n      <td>2016-03-14 17:24:55</td>\n      <td>2016-03-14 17:32:30</td>\n      <td>1</td>\n      <td>-73.982155</td>\n      <td>40.767937</td>\n      <td>-73.964630</td>\n      <td>40.765602</td>\n      <td>N</td>\n      <td>455</td>\n    </tr>\n    <tr>\n      <th>1</th>\n      <td>id2377394</td>\n      <td>1</td>\n      <td>2016-06-12 00:43:35</td>\n      <td>2016-06-12 00:54:38</td>\n      <td>1</td>\n      <td>-73.980415</td>\n      <td>40.738564</td>\n      <td>-73.999481</td>\n      <td>40.731152</td>\n      <td>N</td>\n      <td>663</td>\n    </tr>\n    <tr>\n      <th>2</th>\n      <td>id3858529</td>\n      <td>2</td>\n      <td>2016-01-19 11:35:24</td>\n      <td>2016-01-19 12:10:48</td>\n      <td>1</td>\n      <td>-73.979027</td>\n      <td>40.763939</td>\n      <td>-74.005333</td>\n      <td>40.710087</td>\n      <td>N</td>\n      <td>2124</td>\n    </tr>\n    <tr>\n      <th>3</th>\n      <td>id3504673</td>\n      <td>2</td>\n      <td>2016-04-06 19:32:31</td>\n      <td>2016-04-06 19:39:40</td>\n      <td>1</td>\n      <td>-74.010040</td>\n      <td>40.719971</td>\n      <td>-74.012268</td>\n      <td>40.706718</td>\n      <td>N</td>\n      <td>429</td>\n    </tr>\n    <tr>\n      <th>4</th>\n      <td>id2181028</td>\n      <td>2</td>\n      <td>2016-03-26 13:30:55</td>\n      <td>2016-03-26 13:38:10</td>\n      <td>1</td>\n      <td>-73.973053</td>\n      <td>40.793209</td>\n      <td>-73.972923</td>\n      <td>40.782520</td>\n      <td>N</td>\n      <td>435</td>\n    </tr>\n  </tbody>\n</table>\n</div>"
     },
     "metadata": {}
    }
   ]
  },
  {
   "cell_type": "markdown",
   "source": "## Data Preprocessing\n",
   "metadata": {
    "id": "sAYPf2lOSxme"
   }
  },
  {
   "cell_type": "code",
   "source": "# Data Preprocessing using cuDF\ntime_start_gpu = time.time()\n# drop rows with missing values\ntrain_gpu.dropna(inplace=True)\ntest_gpu.dropna(inplace=True)\n\n# drop records with duplicated IDs\ntrain_gpu.drop_duplicates(subset='id', inplace=True)\n\n# convert the 'pickup_datetime' and 'dropoff_datetime' columns to datetime format\ntrain_gpu['pickup_datetime'] = cudf.to_datetime(train_gpu['pickup_datetime'])\n\n# drop the 'dropoff_datetime' column since it is not available in the test set and is not needed for prediction\n# the trip duration is calculated as the difference between the 'dropoff_datetime' and 'pickup_datetime'\ntrain_gpu.drop('dropoff_datetime', axis=1, inplace=True)\n\ntest_gpu['pickup_datetime'] = cudf.to_datetime(test_gpu['pickup_datetime'])\n\n# create new columns for the pickup month, day of the week, and hour of the day\ntrain_gpu['pickup_month'] = train_gpu['pickup_datetime'].dt.month\ntrain_gpu['pickup_day'] = train_gpu['pickup_datetime'].dt.dayofweek\ntrain_gpu['pickup_hour'] = train_gpu['pickup_datetime'].dt.hour\n\ntest_gpu['pickup_month'] = test_gpu['pickup_datetime'].dt.month\ntest_gpu['pickup_day'] = test_gpu['pickup_datetime'].dt.dayofweek\ntest_gpu['pickup_hour'] = test_gpu['pickup_datetime'].dt.hour\n\nend_time_gpu = time.time()",
   "metadata": {
    "id": "Z36f79vmUey3",
    "execution": {
     "iopub.status.busy": "2024-04-18T22:22:09.128880Z",
     "iopub.execute_input": "2024-04-18T22:22:09.129270Z",
     "iopub.status.idle": "2024-04-18T22:22:09.354624Z",
     "shell.execute_reply.started": "2024-04-18T22:22:09.129240Z",
     "shell.execute_reply": "2024-04-18T22:22:09.353556Z"
    },
    "trusted": true
   },
   "execution_count": 37,
   "outputs": []
  },
  {
   "cell_type": "code",
   "source": "# Data Preprocessing using pandas\ntime_start_cpu = time.time()\n# drop rows with missing values\ntrain_cpu.dropna(inplace=True)\ntest_cpu.dropna(inplace=True)\n\n# drop records with duplicated IDs\ntrain_cpu.drop_duplicates(subset='id', inplace=True)\n\n# convert the 'pickup_datetime' and 'dropoff_datetime' columns to datetime format\ntrain_cpu['pickup_datetime'] = pd.to_datetime(train_cpu['pickup_datetime'])\n\n# drop the 'dropoff_datetime' column since it is not available in the test set and is not needed for prediction\n# the trip duration is calculated as the difference between the 'dropoff_datetime' and 'pickup_datetime'\ntrain_cpu.drop('dropoff_datetime', axis=1, inplace=True)\n\ntest_cpu['pickup_datetime'] = pd.to_datetime(test_cpu['pickup_datetime'])\n\n# create new columns for the pickup month, day of the week, and hour of the day\ntrain_cpu['pickup_month'] = train_cpu['pickup_datetime'].dt.month\ntrain_cpu['pickup_day'] = train_cpu['pickup_datetime'].dt.dayofweek\ntrain_cpu['pickup_hour'] = train_cpu['pickup_datetime'].dt.hour\n\ntest_cpu['pickup_month'] = test_cpu['pickup_datetime'].dt.month\ntest_cpu['pickup_day'] = test_cpu['pickup_datetime'].dt.dayofweek\ntest_cpu['pickup_hour'] = test_cpu['pickup_datetime'].dt.hour\n\nend_time_cpu = time.time()",
   "metadata": {
    "id": "StL42NVfS1Mt",
    "execution": {
     "iopub.status.busy": "2024-04-18T22:22:12.394330Z",
     "iopub.execute_input": "2024-04-18T22:22:12.395324Z",
     "iopub.status.idle": "2024-04-18T22:22:15.118866Z",
     "shell.execute_reply.started": "2024-04-18T22:22:12.395278Z",
     "shell.execute_reply": "2024-04-18T22:22:15.117879Z"
    },
    "trusted": true
   },
   "execution_count": 38,
   "outputs": []
  },
  {
   "cell_type": "code",
   "source": "# Display the time taken for data preprocessing using pandas\nprint(\"Time taken for data preprocessing using pandas: \", end_time_cpu - time_start_cpu)\n# Display the time taken for data preprocessing using cuDF\nprint(\"Time taken for data preprocessing using GUP: \", end_time_gpu - time_start_gpu)",
   "metadata": {
    "colab": {
     "base_uri": "https://localhost:8080/"
    },
    "id": "TPssn9jYTEyf",
    "outputId": "0f6da9dc-42d8-4d00-93ae-a3fdf294e2ac",
    "execution": {
     "iopub.status.busy": "2024-04-18T22:22:18.428846Z",
     "iopub.execute_input": "2024-04-18T22:22:18.429275Z",
     "iopub.status.idle": "2024-04-18T22:22:18.435457Z",
     "shell.execute_reply.started": "2024-04-18T22:22:18.429236Z",
     "shell.execute_reply": "2024-04-18T22:22:18.434226Z"
    },
    "trusted": true
   },
   "execution_count": 39,
   "outputs": [
    {
     "name": "stdout",
     "text": "Time taken for data preprocessing using pandas:  2.7157340049743652\nTime taken for data preprocessing using GUP:  0.21651387214660645\n",
     "output_type": "stream"
    }
   ]
  },
  {
   "cell_type": "code",
   "source": "# Add the metrics to the dataframe\ncpu_metrics.loc[cpu_metrics.shape[0]] = ['Data Preprocessing', time_start_cpu, end_time_cpu, end_time_cpu - time_start_cpu]\ngpu_metrics.loc[gpu_metrics.shape[0]] = ['Data Preprocessing', time_start_gpu, end_time_gpu, end_time_gpu - time_start_gpu]",
   "metadata": {
    "id": "E4AE53n3TGeM",
    "execution": {
     "iopub.status.busy": "2024-04-18T22:23:39.796461Z",
     "iopub.execute_input": "2024-04-18T22:23:39.797433Z",
     "iopub.status.idle": "2024-04-18T22:23:39.808935Z",
     "shell.execute_reply.started": "2024-04-18T22:23:39.797391Z",
     "shell.execute_reply": "2024-04-18T22:23:39.808002Z"
    },
    "trusted": true
   },
   "execution_count": 40,
   "outputs": []
  },
  {
   "cell_type": "code",
   "source": "# make the trip duration the last column in the train dataset\ntrain_gpu = train_gpu[[col for col in train_gpu.columns if col != 'trip_duration'] + ['trip_duration']]\ntrain_cpu = train_cpu[[col for col in train_cpu.columns if col != 'trip_duration'] + ['trip_duration']]",
   "metadata": {
    "execution": {
     "iopub.status.busy": "2024-04-18T22:24:30.544392Z",
     "iopub.execute_input": "2024-04-18T22:24:30.544922Z",
     "iopub.status.idle": "2024-04-18T22:24:30.676883Z",
     "shell.execute_reply.started": "2024-04-18T22:24:30.544889Z",
     "shell.execute_reply": "2024-04-18T22:24:30.675807Z"
    },
    "trusted": true
   },
   "execution_count": 43,
   "outputs": []
  },
  {
   "cell_type": "code",
   "source": "train_cpu.head(5)",
   "metadata": {
    "colab": {
     "base_uri": "https://localhost:8080/",
     "height": 206
    },
    "id": "CzalqIxnUzwg",
    "outputId": "9cbdf246-d8d8-4f0f-c63d-b3078a1f995e",
    "execution": {
     "iopub.status.busy": "2024-04-18T22:24:33.886630Z",
     "iopub.execute_input": "2024-04-18T22:24:33.887347Z",
     "iopub.status.idle": "2024-04-18T22:24:33.907978Z",
     "shell.execute_reply.started": "2024-04-18T22:24:33.887312Z",
     "shell.execute_reply": "2024-04-18T22:24:33.906644Z"
    },
    "trusted": true
   },
   "execution_count": 44,
   "outputs": [
    {
     "name": "stderr",
     "text": "/opt/conda/lib/python3.10/site-packages/IPython/core/formatters.py:344: FutureWarning: Index.format is deprecated and will be removed in a future version. Convert using index.astype(str) or index.map(formatter) instead.\n  return method()\n/opt/conda/lib/python3.10/site-packages/IPython/core/formatters.py:344: FutureWarning: RangeIndex.format is deprecated and will be removed in a future version. Convert using index.astype(str) or index.map(formatter) instead.\n  return method()\n",
     "output_type": "stream"
    },
    {
     "execution_count": 44,
     "output_type": "execute_result",
     "data": {
      "text/plain": "          id  vendor_id     pickup_datetime  passenger_count   \n0  id2875421          2 2016-03-14 17:24:55                1  \\\n1  id2377394          1 2016-06-12 00:43:35                1   \n2  id3858529          2 2016-01-19 11:35:24                1   \n3  id3504673          2 2016-04-06 19:32:31                1   \n4  id2181028          2 2016-03-26 13:30:55                1   \n\n   pickup_longitude  pickup_latitude  dropoff_longitude  dropoff_latitude   \n0        -73.982155        40.767937         -73.964630         40.765602  \\\n1        -73.980415        40.738564         -73.999481         40.731152   \n2        -73.979027        40.763939         -74.005333         40.710087   \n3        -74.010040        40.719971         -74.012268         40.706718   \n4        -73.973053        40.793209         -73.972923         40.782520   \n\n  store_and_fwd_flag  pickup_month  pickup_day  pickup_hour  trip_duration  \n0                  N             3           0           17            455  \n1                  N             6           6            0            663  \n2                  N             1           1           11           2124  \n3                  N             4           2           19            429  \n4                  N             3           5           13            435  ",
      "text/html": "<div>\n<style scoped>\n    .dataframe tbody tr th:only-of-type {\n        vertical-align: middle;\n    }\n\n    .dataframe tbody tr th {\n        vertical-align: top;\n    }\n\n    .dataframe thead th {\n        text-align: right;\n    }\n</style>\n<table border=\"1\" class=\"dataframe\">\n  <thead>\n    <tr style=\"text-align: right;\">\n      <th></th>\n      <th>id</th>\n      <th>vendor_id</th>\n      <th>pickup_datetime</th>\n      <th>passenger_count</th>\n      <th>pickup_longitude</th>\n      <th>pickup_latitude</th>\n      <th>dropoff_longitude</th>\n      <th>dropoff_latitude</th>\n      <th>store_and_fwd_flag</th>\n      <th>pickup_month</th>\n      <th>pickup_day</th>\n      <th>pickup_hour</th>\n      <th>trip_duration</th>\n    </tr>\n  </thead>\n  <tbody>\n    <tr>\n      <th>0</th>\n      <td>id2875421</td>\n      <td>2</td>\n      <td>2016-03-14 17:24:55</td>\n      <td>1</td>\n      <td>-73.982155</td>\n      <td>40.767937</td>\n      <td>-73.964630</td>\n      <td>40.765602</td>\n      <td>N</td>\n      <td>3</td>\n      <td>0</td>\n      <td>17</td>\n      <td>455</td>\n    </tr>\n    <tr>\n      <th>1</th>\n      <td>id2377394</td>\n      <td>1</td>\n      <td>2016-06-12 00:43:35</td>\n      <td>1</td>\n      <td>-73.980415</td>\n      <td>40.738564</td>\n      <td>-73.999481</td>\n      <td>40.731152</td>\n      <td>N</td>\n      <td>6</td>\n      <td>6</td>\n      <td>0</td>\n      <td>663</td>\n    </tr>\n    <tr>\n      <th>2</th>\n      <td>id3858529</td>\n      <td>2</td>\n      <td>2016-01-19 11:35:24</td>\n      <td>1</td>\n      <td>-73.979027</td>\n      <td>40.763939</td>\n      <td>-74.005333</td>\n      <td>40.710087</td>\n      <td>N</td>\n      <td>1</td>\n      <td>1</td>\n      <td>11</td>\n      <td>2124</td>\n    </tr>\n    <tr>\n      <th>3</th>\n      <td>id3504673</td>\n      <td>2</td>\n      <td>2016-04-06 19:32:31</td>\n      <td>1</td>\n      <td>-74.010040</td>\n      <td>40.719971</td>\n      <td>-74.012268</td>\n      <td>40.706718</td>\n      <td>N</td>\n      <td>4</td>\n      <td>2</td>\n      <td>19</td>\n      <td>429</td>\n    </tr>\n    <tr>\n      <th>4</th>\n      <td>id2181028</td>\n      <td>2</td>\n      <td>2016-03-26 13:30:55</td>\n      <td>1</td>\n      <td>-73.973053</td>\n      <td>40.793209</td>\n      <td>-73.972923</td>\n      <td>40.782520</td>\n      <td>N</td>\n      <td>3</td>\n      <td>5</td>\n      <td>13</td>\n      <td>435</td>\n    </tr>\n  </tbody>\n</table>\n</div>"
     },
     "metadata": {}
    }
   ]
  },
  {
   "cell_type": "code",
   "source": "test_cpu.head(5)",
   "metadata": {
    "colab": {
     "base_uri": "https://localhost:8080/",
     "height": 206
    },
    "id": "wqiE0tzSVfY-",
    "outputId": "b7317e19-96dc-4269-8812-645b20eae1a6",
    "execution": {
     "iopub.status.busy": "2024-04-18T22:24:41.615072Z",
     "iopub.execute_input": "2024-04-18T22:24:41.615479Z",
     "iopub.status.idle": "2024-04-18T22:24:41.635003Z",
     "shell.execute_reply.started": "2024-04-18T22:24:41.615446Z",
     "shell.execute_reply": "2024-04-18T22:24:41.633733Z"
    },
    "trusted": true
   },
   "execution_count": 45,
   "outputs": [
    {
     "name": "stderr",
     "text": "/opt/conda/lib/python3.10/site-packages/IPython/core/formatters.py:344: FutureWarning: Index.format is deprecated and will be removed in a future version. Convert using index.astype(str) or index.map(formatter) instead.\n  return method()\n/opt/conda/lib/python3.10/site-packages/IPython/core/formatters.py:344: FutureWarning: RangeIndex.format is deprecated and will be removed in a future version. Convert using index.astype(str) or index.map(formatter) instead.\n  return method()\n",
     "output_type": "stream"
    },
    {
     "execution_count": 45,
     "output_type": "execute_result",
     "data": {
      "text/plain": "          id  vendor_id     pickup_datetime  passenger_count   \n0  id3004672          1 2016-06-30 23:59:58                1  \\\n1  id3505355          1 2016-06-30 23:59:53                1   \n2  id1217141          1 2016-06-30 23:59:47                1   \n3  id2150126          2 2016-06-30 23:59:41                1   \n4  id1598245          1 2016-06-30 23:59:33                1   \n\n   pickup_longitude  pickup_latitude  dropoff_longitude  dropoff_latitude   \n0        -73.988129        40.732029         -73.990173         40.756680  \\\n1        -73.964203        40.679993         -73.959808         40.655403   \n2        -73.997437        40.737583         -73.986160         40.729523   \n3        -73.956070        40.771900         -73.986427         40.730469   \n4        -73.970215        40.761475         -73.961510         40.755890   \n\n  store_and_fwd_flag  pickup_month  pickup_day  pickup_hour  \n0                  N             6           3           23  \n1                  N             6           3           23  \n2                  N             6           3           23  \n3                  N             6           3           23  \n4                  N             6           3           23  ",
      "text/html": "<div>\n<style scoped>\n    .dataframe tbody tr th:only-of-type {\n        vertical-align: middle;\n    }\n\n    .dataframe tbody tr th {\n        vertical-align: top;\n    }\n\n    .dataframe thead th {\n        text-align: right;\n    }\n</style>\n<table border=\"1\" class=\"dataframe\">\n  <thead>\n    <tr style=\"text-align: right;\">\n      <th></th>\n      <th>id</th>\n      <th>vendor_id</th>\n      <th>pickup_datetime</th>\n      <th>passenger_count</th>\n      <th>pickup_longitude</th>\n      <th>pickup_latitude</th>\n      <th>dropoff_longitude</th>\n      <th>dropoff_latitude</th>\n      <th>store_and_fwd_flag</th>\n      <th>pickup_month</th>\n      <th>pickup_day</th>\n      <th>pickup_hour</th>\n    </tr>\n  </thead>\n  <tbody>\n    <tr>\n      <th>0</th>\n      <td>id3004672</td>\n      <td>1</td>\n      <td>2016-06-30 23:59:58</td>\n      <td>1</td>\n      <td>-73.988129</td>\n      <td>40.732029</td>\n      <td>-73.990173</td>\n      <td>40.756680</td>\n      <td>N</td>\n      <td>6</td>\n      <td>3</td>\n      <td>23</td>\n    </tr>\n    <tr>\n      <th>1</th>\n      <td>id3505355</td>\n      <td>1</td>\n      <td>2016-06-30 23:59:53</td>\n      <td>1</td>\n      <td>-73.964203</td>\n      <td>40.679993</td>\n      <td>-73.959808</td>\n      <td>40.655403</td>\n      <td>N</td>\n      <td>6</td>\n      <td>3</td>\n      <td>23</td>\n    </tr>\n    <tr>\n      <th>2</th>\n      <td>id1217141</td>\n      <td>1</td>\n      <td>2016-06-30 23:59:47</td>\n      <td>1</td>\n      <td>-73.997437</td>\n      <td>40.737583</td>\n      <td>-73.986160</td>\n      <td>40.729523</td>\n      <td>N</td>\n      <td>6</td>\n      <td>3</td>\n      <td>23</td>\n    </tr>\n    <tr>\n      <th>3</th>\n      <td>id2150126</td>\n      <td>2</td>\n      <td>2016-06-30 23:59:41</td>\n      <td>1</td>\n      <td>-73.956070</td>\n      <td>40.771900</td>\n      <td>-73.986427</td>\n      <td>40.730469</td>\n      <td>N</td>\n      <td>6</td>\n      <td>3</td>\n      <td>23</td>\n    </tr>\n    <tr>\n      <th>4</th>\n      <td>id1598245</td>\n      <td>1</td>\n      <td>2016-06-30 23:59:33</td>\n      <td>1</td>\n      <td>-73.970215</td>\n      <td>40.761475</td>\n      <td>-73.961510</td>\n      <td>40.755890</td>\n      <td>N</td>\n      <td>6</td>\n      <td>3</td>\n      <td>23</td>\n    </tr>\n  </tbody>\n</table>\n</div>"
     },
     "metadata": {}
    }
   ]
  },
  {
   "cell_type": "code",
   "source": "train_gpu.head(5)",
   "metadata": {
    "colab": {
     "base_uri": "https://localhost:8080/",
     "height": 206
    },
    "id": "9R826KgsV5uW",
    "outputId": "fe23e312-6ea7-4427-a7f4-1f0ab1353243",
    "execution": {
     "iopub.status.busy": "2024-04-18T22:24:49.177933Z",
     "iopub.execute_input": "2024-04-18T22:24:49.178333Z",
     "iopub.status.idle": "2024-04-18T22:24:49.246660Z",
     "shell.execute_reply.started": "2024-04-18T22:24:49.178302Z",
     "shell.execute_reply": "2024-04-18T22:24:49.245472Z"
    },
    "trusted": true
   },
   "execution_count": 46,
   "outputs": [
    {
     "name": "stderr",
     "text": "/opt/conda/lib/python3.10/site-packages/cudf/core/dataframe.py:1769: FutureWarning: Index.format is deprecated and will be removed in a future version. Convert using index.astype(str) or index.map(formatter) instead.\n  out = out.set_index(\n",
     "output_type": "stream"
    },
    {
     "execution_count": 46,
     "output_type": "execute_result",
     "data": {
      "text/plain": "          id  vendor_id     pickup_datetime  passenger_count   \n0  id2875421          2 2016-03-14 17:24:55                1  \\\n1  id2377394          1 2016-06-12 00:43:35                1   \n2  id3858529          2 2016-01-19 11:35:24                1   \n3  id3504673          2 2016-04-06 19:32:31                1   \n4  id2181028          2 2016-03-26 13:30:55                1   \n\n   pickup_longitude  pickup_latitude  dropoff_longitude  dropoff_latitude   \n0        -73.982155        40.767937         -73.964630         40.765602  \\\n1        -73.980415        40.738564         -73.999481         40.731152   \n2        -73.979027        40.763939         -74.005333         40.710087   \n3        -74.010040        40.719971         -74.012268         40.706718   \n4        -73.973053        40.793209         -73.972923         40.782520   \n\n  store_and_fwd_flag  pickup_month  pickup_day  pickup_hour  trip_duration  \n0                  N             3           0           17            455  \n1                  N             6           6            0            663  \n2                  N             1           1           11           2124  \n3                  N             4           2           19            429  \n4                  N             3           5           13            435  ",
      "text/html": "<div>\n<style scoped>\n    .dataframe tbody tr th:only-of-type {\n        vertical-align: middle;\n    }\n\n    .dataframe tbody tr th {\n        vertical-align: top;\n    }\n\n    .dataframe thead th {\n        text-align: right;\n    }\n</style>\n<table border=\"1\" class=\"dataframe\">\n  <thead>\n    <tr style=\"text-align: right;\">\n      <th></th>\n      <th>id</th>\n      <th>vendor_id</th>\n      <th>pickup_datetime</th>\n      <th>passenger_count</th>\n      <th>pickup_longitude</th>\n      <th>pickup_latitude</th>\n      <th>dropoff_longitude</th>\n      <th>dropoff_latitude</th>\n      <th>store_and_fwd_flag</th>\n      <th>pickup_month</th>\n      <th>pickup_day</th>\n      <th>pickup_hour</th>\n      <th>trip_duration</th>\n    </tr>\n  </thead>\n  <tbody>\n    <tr>\n      <th>0</th>\n      <td>id2875421</td>\n      <td>2</td>\n      <td>2016-03-14 17:24:55</td>\n      <td>1</td>\n      <td>-73.982155</td>\n      <td>40.767937</td>\n      <td>-73.964630</td>\n      <td>40.765602</td>\n      <td>N</td>\n      <td>3</td>\n      <td>0</td>\n      <td>17</td>\n      <td>455</td>\n    </tr>\n    <tr>\n      <th>1</th>\n      <td>id2377394</td>\n      <td>1</td>\n      <td>2016-06-12 00:43:35</td>\n      <td>1</td>\n      <td>-73.980415</td>\n      <td>40.738564</td>\n      <td>-73.999481</td>\n      <td>40.731152</td>\n      <td>N</td>\n      <td>6</td>\n      <td>6</td>\n      <td>0</td>\n      <td>663</td>\n    </tr>\n    <tr>\n      <th>2</th>\n      <td>id3858529</td>\n      <td>2</td>\n      <td>2016-01-19 11:35:24</td>\n      <td>1</td>\n      <td>-73.979027</td>\n      <td>40.763939</td>\n      <td>-74.005333</td>\n      <td>40.710087</td>\n      <td>N</td>\n      <td>1</td>\n      <td>1</td>\n      <td>11</td>\n      <td>2124</td>\n    </tr>\n    <tr>\n      <th>3</th>\n      <td>id3504673</td>\n      <td>2</td>\n      <td>2016-04-06 19:32:31</td>\n      <td>1</td>\n      <td>-74.010040</td>\n      <td>40.719971</td>\n      <td>-74.012268</td>\n      <td>40.706718</td>\n      <td>N</td>\n      <td>4</td>\n      <td>2</td>\n      <td>19</td>\n      <td>429</td>\n    </tr>\n    <tr>\n      <th>4</th>\n      <td>id2181028</td>\n      <td>2</td>\n      <td>2016-03-26 13:30:55</td>\n      <td>1</td>\n      <td>-73.973053</td>\n      <td>40.793209</td>\n      <td>-73.972923</td>\n      <td>40.782520</td>\n      <td>N</td>\n      <td>3</td>\n      <td>5</td>\n      <td>13</td>\n      <td>435</td>\n    </tr>\n  </tbody>\n</table>\n</div>"
     },
     "metadata": {}
    }
   ]
  },
  {
   "cell_type": "code",
   "source": "test_gpu.head(5)",
   "metadata": {
    "colab": {
     "base_uri": "https://localhost:8080/",
     "height": 206
    },
    "id": "HVTH9ptZV_3A",
    "outputId": "66e4c2e8-f4db-4d2c-d57e-6a00c46a856e",
    "execution": {
     "iopub.status.busy": "2024-04-18T22:24:55.593458Z",
     "iopub.execute_input": "2024-04-18T22:24:55.594300Z",
     "iopub.status.idle": "2024-04-18T22:24:55.637167Z",
     "shell.execute_reply.started": "2024-04-18T22:24:55.594266Z",
     "shell.execute_reply": "2024-04-18T22:24:55.636169Z"
    },
    "trusted": true
   },
   "execution_count": 47,
   "outputs": [
    {
     "name": "stderr",
     "text": "/opt/conda/lib/python3.10/site-packages/cudf/core/dataframe.py:1769: FutureWarning: Index.format is deprecated and will be removed in a future version. Convert using index.astype(str) or index.map(formatter) instead.\n  out = out.set_index(\n",
     "output_type": "stream"
    },
    {
     "execution_count": 47,
     "output_type": "execute_result",
     "data": {
      "text/plain": "          id  vendor_id     pickup_datetime  passenger_count   \n0  id3004672          1 2016-06-30 23:59:58                1  \\\n1  id3505355          1 2016-06-30 23:59:53                1   \n2  id1217141          1 2016-06-30 23:59:47                1   \n3  id2150126          2 2016-06-30 23:59:41                1   \n4  id1598245          1 2016-06-30 23:59:33                1   \n\n   pickup_longitude  pickup_latitude  dropoff_longitude  dropoff_latitude   \n0        -73.988129        40.732029         -73.990173         40.756680  \\\n1        -73.964203        40.679993         -73.959808         40.655403   \n2        -73.997437        40.737583         -73.986160         40.729523   \n3        -73.956070        40.771900         -73.986427         40.730469   \n4        -73.970215        40.761475         -73.961510         40.755890   \n\n  store_and_fwd_flag  pickup_month  pickup_day  pickup_hour  \n0                  N             6           3           23  \n1                  N             6           3           23  \n2                  N             6           3           23  \n3                  N             6           3           23  \n4                  N             6           3           23  ",
      "text/html": "<div>\n<style scoped>\n    .dataframe tbody tr th:only-of-type {\n        vertical-align: middle;\n    }\n\n    .dataframe tbody tr th {\n        vertical-align: top;\n    }\n\n    .dataframe thead th {\n        text-align: right;\n    }\n</style>\n<table border=\"1\" class=\"dataframe\">\n  <thead>\n    <tr style=\"text-align: right;\">\n      <th></th>\n      <th>id</th>\n      <th>vendor_id</th>\n      <th>pickup_datetime</th>\n      <th>passenger_count</th>\n      <th>pickup_longitude</th>\n      <th>pickup_latitude</th>\n      <th>dropoff_longitude</th>\n      <th>dropoff_latitude</th>\n      <th>store_and_fwd_flag</th>\n      <th>pickup_month</th>\n      <th>pickup_day</th>\n      <th>pickup_hour</th>\n    </tr>\n  </thead>\n  <tbody>\n    <tr>\n      <th>0</th>\n      <td>id3004672</td>\n      <td>1</td>\n      <td>2016-06-30 23:59:58</td>\n      <td>1</td>\n      <td>-73.988129</td>\n      <td>40.732029</td>\n      <td>-73.990173</td>\n      <td>40.756680</td>\n      <td>N</td>\n      <td>6</td>\n      <td>3</td>\n      <td>23</td>\n    </tr>\n    <tr>\n      <th>1</th>\n      <td>id3505355</td>\n      <td>1</td>\n      <td>2016-06-30 23:59:53</td>\n      <td>1</td>\n      <td>-73.964203</td>\n      <td>40.679993</td>\n      <td>-73.959808</td>\n      <td>40.655403</td>\n      <td>N</td>\n      <td>6</td>\n      <td>3</td>\n      <td>23</td>\n    </tr>\n    <tr>\n      <th>2</th>\n      <td>id1217141</td>\n      <td>1</td>\n      <td>2016-06-30 23:59:47</td>\n      <td>1</td>\n      <td>-73.997437</td>\n      <td>40.737583</td>\n      <td>-73.986160</td>\n      <td>40.729523</td>\n      <td>N</td>\n      <td>6</td>\n      <td>3</td>\n      <td>23</td>\n    </tr>\n    <tr>\n      <th>3</th>\n      <td>id2150126</td>\n      <td>2</td>\n      <td>2016-06-30 23:59:41</td>\n      <td>1</td>\n      <td>-73.956070</td>\n      <td>40.771900</td>\n      <td>-73.986427</td>\n      <td>40.730469</td>\n      <td>N</td>\n      <td>6</td>\n      <td>3</td>\n      <td>23</td>\n    </tr>\n    <tr>\n      <th>4</th>\n      <td>id1598245</td>\n      <td>1</td>\n      <td>2016-06-30 23:59:33</td>\n      <td>1</td>\n      <td>-73.970215</td>\n      <td>40.761475</td>\n      <td>-73.961510</td>\n      <td>40.755890</td>\n      <td>N</td>\n      <td>6</td>\n      <td>3</td>\n      <td>23</td>\n    </tr>\n  </tbody>\n</table>\n</div>"
     },
     "metadata": {}
    }
   ]
  },
  {
   "cell_type": "code",
   "source": "",
   "metadata": {},
   "execution_count": null,
   "outputs": []
  }
 ]
}
